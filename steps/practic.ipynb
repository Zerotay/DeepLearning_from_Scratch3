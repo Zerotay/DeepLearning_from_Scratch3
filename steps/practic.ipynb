{
 "cells": [
  {
   "cell_type": "code",
   "execution_count": 3,
   "metadata": {},
   "outputs": [],
   "source": [
    "import numpy as np"
   ]
  },
  {
   "cell_type": "markdown",
   "metadata": {},
   "source": [
    "# 1강"
   ]
  },
  {
   "cell_type": "code",
   "execution_count": 6,
   "metadata": {},
   "outputs": [],
   "source": [
    "class Variable:\n",
    "\tdef __init__(self, data) -> None:\n",
    "\t\tself.data = data"
   ]
  },
  {
   "cell_type": "markdown",
   "metadata": {},
   "source": [
    "# 2강"
   ]
  },
  {
   "cell_type": "code",
   "execution_count": 7,
   "metadata": {},
   "outputs": [],
   "source": [
    "class Function:\n",
    "\tdef __call__(self, input):\n",
    "\t\tx = input.data\n",
    "\t\ty = self.forward(x)\n",
    "\t\toutput = Variable(y)\n",
    "\t\treturn output\n",
    "\n",
    "\tdef forward(self, x):\n",
    "\t\traise NotImplementedError()"
   ]
  },
  {
   "cell_type": "markdown",
   "metadata": {},
   "source": [
    "# 3강"
   ]
  },
  {
   "cell_type": "code",
   "execution_count": 8,
   "metadata": {},
   "outputs": [],
   "source": [
    "class Square(Function):\n",
    "\tdef forward(self, x):\n",
    "\t\treturn x ** 2\n",
    "\n",
    "class Exp(Function):\n",
    "\tdef forward(self, x):\n",
    "\t\treturn np.exp(x)\n"
   ]
  },
  {
   "cell_type": "markdown",
   "metadata": {},
   "source": [
    "# 4강"
   ]
  },
  {
   "cell_type": "code",
   "execution_count": 10,
   "metadata": {},
   "outputs": [
    {
     "name": "stdout",
     "output_type": "stream",
     "text": [
      "3.2974426293330694\n"
     ]
    }
   ],
   "source": [
    "def numerical_diff(f, x, eps=1e-4):\n",
    "\tx0 = Variable(x.data - eps)\n",
    "\tx1 = Variable(x.data + eps)\n",
    "\n",
    "\ty0 = f(x0)\n",
    "\ty1 = f(x1)\n",
    "\treturn (y1.data - y0.data) / (2 * eps)\n",
    "\n",
    "def f(x):\n",
    "\ta = Square()\n",
    "\tb = Exp()\n",
    "\treturn a(b(a(x)))\n",
    "\n",
    "x = Variable(np.array(0.5))\n",
    "dy = numerical_diff(f,x)\n",
    "print(dy)\n",
    "\n"
   ]
  },
  {
   "cell_type": "markdown",
   "metadata": {},
   "source": [
    "# 5강"
   ]
  },
  {
   "cell_type": "markdown",
   "metadata": {},
   "source": [
    "연쇄법칙을 활용한 역전파. 그러나 순서가 앞에서 시작돼도 분명 가능하다"
   ]
  },
  {
   "cell_type": "markdown",
   "metadata": {},
   "source": [
    "# 6강"
   ]
  },
  {
   "cell_type": "code",
   "execution_count": 20,
   "metadata": {},
   "outputs": [
    {
     "name": "stdout",
     "output_type": "stream",
     "text": [
      "before backpropagation\n",
      "None\n",
      "by backpropagation\n",
      "6.351000049838023\n",
      "by numerical_diff\n",
      "6.351000335633739\n"
     ]
    }
   ],
   "source": [
    "class Variable:\n",
    "\tdef __init__(self, data):\n",
    "\t\tself.data = data\n",
    "\t\tself.grad = None # 미분값을 저장함.\n",
    "\n",
    "class Function:\n",
    "\tdef __call__(self, input):\n",
    "\t\tx = input.data\n",
    "\t\ty = self.forward(x)\n",
    "\t\toutput = Variable(y)\n",
    "\t\tself.input = input # 변수 보관\n",
    "\t\treturn output\n",
    "\n",
    "\tdef forward(self, x):\n",
    "\t\traise NotImplementedError()\n",
    "\n",
    "\tdef backward(self, gy): # 역전파 메소드\n",
    "\t\traise NotImplementedError()\n",
    "\n",
    "\n",
    "class Square(Function):\n",
    "\tdef forward(self, x):\n",
    "\t\treturn x ** 2\n",
    "\n",
    "\tdef backward(self, gy):\n",
    "\t\tx = self.input.data\n",
    "\t\tgx = 2 * x * gy\n",
    "\t\treturn gx\n",
    "# x 제곱의 미분 값은 2x. 즉 입력값이 활용된다.\n",
    "\n",
    "class Exp(Function):\n",
    "\tdef forward(self, x):\n",
    "\t\treturn np.exp(x)\n",
    "\n",
    "\tdef backward(self, gy):\n",
    "\t\tx = self.input.data\n",
    "\t\tgx = np.exp(x) * gy\n",
    "\t\treturn gx\n",
    "\n",
    "class Triple(Function):\n",
    "\tdef forward(self, x):\n",
    "\t\treturn x ** 3\n",
    "\t\n",
    "\tdef backward(self, gy):\n",
    "\t\tx = self.input.data\n",
    "\t\tgx = 3 * (x ** 2) * gy\n",
    "\t\treturn gx\n",
    "\n",
    "a = Square()\n",
    "b = Exp()\n",
    "c = Triple()\n",
    "\n",
    "x = Variable(np.array(0.5))\n",
    "p = a(x)\n",
    "q = b(p)\n",
    "y = c(q)\n",
    "\n",
    "print('before backpropagation')\n",
    "print(x.grad)\n",
    "\n",
    "y.grad = np.array(1.0)\n",
    "q.grad = c.backward(y.grad)\n",
    "p.grad = b.backward(q.grad)\n",
    "x.grad = a.backward(p.grad)\n",
    "print('by backpropagation')\n",
    "print(x.grad) #역전파로 나오는 값\n",
    "\n",
    "#값이 잘 나오는지 확인\n",
    "def fun(x):\n",
    "\ty = a(x)\n",
    "\ty = b(y)\n",
    "\ty = c(y)\n",
    "\treturn y\n",
    "\n",
    "tmp = numerical_diff(fun, x)\n",
    "print('by numerical_diff')\n",
    "print(tmp)\n"
   ]
  },
  {
   "cell_type": "markdown",
   "metadata": {},
   "source": [
    "앞에서부터 미분을 진행할 수 있을까?"
   ]
  },
  {
   "cell_type": "code",
   "execution_count": 21,
   "metadata": {},
   "outputs": [
    {
     "name": "stdout",
     "output_type": "stream",
     "text": [
      "1.0\n",
      "1.0\n",
      "1.2840254166877414\n",
      "6.351000049838023\n"
     ]
    }
   ],
   "source": [
    "class Variable:\n",
    "\tdef __init__(self, data):\n",
    "\t\tself.data = data\n",
    "\t\tself.grad = None # 앞에서부터의 미분값.\n",
    "\n",
    "class Function:\n",
    "\tdef __call__(self, input):\n",
    "\t\tx = input.data\n",
    "\t\ty = self.forward(x)\n",
    "\t\toutput = Variable(y)\n",
    "\t\tself.input = input # 변수 보관\n",
    "\t\treturn output\n",
    "\n",
    "\tdef forward(self, x):\n",
    "\t\traise NotImplementedError()\n",
    "\n",
    "\tdef backward(self, gy): #엄밀하게 back이 아님. 이것도 forward\n",
    "\t\traise NotImplementedError()\n",
    "\n",
    "\n",
    "class Square(Function):\n",
    "\tdef forward(self, x):\n",
    "\t\treturn x ** 2\n",
    "\n",
    "\tdef backward(self, gy): #gy도 앞에서 전달되는 값\n",
    "\t\tx = self.input.data\n",
    "\t\tgx = 2 * x * gy\n",
    "\t\treturn gx\n",
    "\n",
    "class Exp(Function):\n",
    "\tdef forward(self, x):\n",
    "\t\treturn np.exp(x)\n",
    "\n",
    "\tdef backward(self, gy):\n",
    "\t\tx = self.input.data\n",
    "\t\tgx = np.exp(x) * gy\n",
    "\t\treturn gx\n",
    "\n",
    "class Triple(Function):\n",
    "\tdef forward(self, x):\n",
    "\t\treturn x ** 3\n",
    "\t\n",
    "\tdef backward(self, gy):\n",
    "\t\tx = self.input.data\n",
    "\t\tgx = 3 * (x ** 2) * gy\n",
    "\t\treturn gx\n",
    "\n",
    "\n",
    "a = Square()\n",
    "b = Exp()\n",
    "c = Triple()\n",
    "\n",
    "x = Variable(np.array(0.5))\n",
    "p = a(x)\n",
    "q = b(p)\n",
    "y = c(q)\n",
    "\n",
    "\n",
    "#앞에서부터 미분을 진행한다면? dx/dx로부터 시작을 하자.\n",
    "x.grad = np.array(1.0)\n",
    "p.grad = a.backward(x.grad) #backward라고 써있지만.. 앞으로 간다.\n",
    "q.grad = b.backward(p.grad)\n",
    "y.grad = c.backward(q.grad)\n",
    "print(x.grad)\n",
    "print(p.grad)\n",
    "print(q.grad)\n",
    "print(y.grad)\n",
    "#결과적으로 grad의 의미가 바뀌었고, 저장되는 위치가 바뀌게 되었다.\n",
    "#grad는 각 위치의 미분값을 나타내는 것이 아님. 독립적이지 않음."
   ]
  },
  {
   "cell_type": "markdown",
   "metadata": {},
   "source": [
    "추가적으로 생각해볼 사안. \\\n",
    "만약에 분기가 일어난다면? - 11강 \\\n",
    "최종 grad의 위치를 똑같이 하고 싶다면?"
   ]
  },
  {
   "cell_type": "markdown",
   "metadata": {},
   "source": [
    "# 7강"
   ]
  },
  {
   "cell_type": "code",
   "execution_count": 26,
   "metadata": {},
   "outputs": [
    {
     "name": "stdout",
     "output_type": "stream",
     "text": [
      "6.351000049838023\n"
     ]
    }
   ],
   "source": [
    "class Variable:\n",
    "\tdef __init__(self, data):\n",
    "\t\tself.data = data\n",
    "\t\tself.grad = None\n",
    "\t\tself.creator = None # 창조자를 담을 변수\n",
    "\n",
    "\tdef set_creator(self, func):\n",
    "\t\tself.creator = func #자신의 창조자를 저장함\n",
    "\n",
    "\tdef backward(self):\n",
    "\t\tf = self.creator # 창조자를 활용함\n",
    "\t\tif f is not None: # 창조한 함수가 없을 때까지\n",
    "\t\t\tx = f.input\n",
    "\t\t\tx.grad = f.backward(self.grad)\n",
    "\t\t\tx.backward()\n",
    "\t# 변수의 역전파 메소드는 재귀를 돈다.\n",
    "\n",
    "class Function:\n",
    "\tdef __call__(self, input):\n",
    "\t\tx = input.data\n",
    "\t\ty = self.forward(x)\n",
    "\t\toutput = Variable(y) # 함수로 만들어진 출력이 변수에 담김\n",
    "\t\tself.input = input # 입력변수 보관\n",
    "\n",
    "\t\toutput.set_creator(self) # 그 변수는 자신을 만든 함수를 저장함\n",
    "\t\tself.output = output # 출력변수도 보관\n",
    "\t\treturn output\n",
    "\n",
    "\tdef forward(self, x):\n",
    "\t\traise NotImplementedError()\n",
    "\n",
    "\tdef backward(self, gy):\n",
    "\t\traise NotImplementedError()\n",
    "\n",
    "\n",
    "class Square(Function):\n",
    "\tdef forward(self, x):\n",
    "\t\treturn x ** 2\n",
    "\n",
    "\tdef backward(self, gy):\n",
    "\t\tx = self.input.data\n",
    "\t\tgx = 2 * x * gy\n",
    "\t\treturn gx\n",
    "\n",
    "class Exp(Function):\n",
    "\tdef forward(self, x):\n",
    "\t\treturn np.exp(x)\n",
    "\n",
    "\tdef backward(self, gy):\n",
    "\t\tx = self.input.data\n",
    "\t\tgx = np.exp(x) * gy\n",
    "\t\treturn gx\n",
    "\n",
    "class Triple(Function):\n",
    "\tdef forward(self, x):\n",
    "\t\treturn x ** 3\n",
    "\t\n",
    "\tdef backward(self, gy):\n",
    "\t\tx = self.input.data\n",
    "\t\tgx = 3 * (x ** 2) * gy\n",
    "\t\treturn gx\n",
    "\n",
    "A = Square()\n",
    "B = Exp()\n",
    "C = Triple()\n",
    "\n",
    "x = Variable(np.array(0.5))\n",
    "a = A(x)\n",
    "b = B(a)\n",
    "y = C(b)\n",
    "\n",
    "y.grad = np.array(1.0)\n",
    "y.backward() # 변수 객체의 backward.\n",
    "print(x.grad)\n",
    "\n"
   ]
  },
  {
   "cell_type": "code",
   "execution_count": 28,
   "metadata": {},
   "outputs": [
    {
     "name": "stdout",
     "output_type": "stream",
     "text": [
      "by backpropagation\n",
      "6.351000049838023\n"
     ]
    }
   ],
   "source": [
    "#당연히 원래 방법도 가능\n",
    "y.grad = np.array(1.0)\n",
    "q.grad = C.backward(y.grad)\n",
    "p.grad = B.backward(q.grad)\n",
    "x.grad = A.backward(p.grad)\n",
    "print('by backpropagation')\n",
    "print(x.grad) #역전파로 나오는 값"
   ]
  },
  {
   "cell_type": "markdown",
   "metadata": {},
   "source": [
    "와! 복습 끝! 최종적으로 만들어진 클래스들의 모습"
   ]
  },
  {
   "cell_type": "code",
   "execution_count": null,
   "metadata": {},
   "outputs": [],
   "source": [
    "class Variable:\n",
    "\tdef __init__(self, data):\n",
    "\t\tself.data = data\n",
    "\t\tself.grad = None\n",
    "\t\tself.creator = None\n",
    "\n",
    "\tdef set_creator(self, func):\n",
    "\t\tself.creator = func\n",
    "\n",
    "\tdef backward(self):\n",
    "\t\tf = self.creator\n",
    "\t\tif f is not None:\n",
    "\t\t\tx = f.input\n",
    "\t\t\tx.grad = f.backward(self.grad)\n",
    "\t\t\tx.backward()\n",
    "\n",
    "class Function:\n",
    "\tdef __call__(self, input):\n",
    "\t\tx = input.data\n",
    "\t\ty = self.forward(x)\n",
    "\t\toutput = Variable(y)\n",
    "\t\toutput.set_creator(self)\n",
    "\t\tself.input = input\n",
    "\t\tself.output = output #이따 쓰인다..\n",
    "\t\treturn output\n",
    "\n",
    "\tdef forward(self, x):\n",
    "\t\traise NotImplementedError()\n",
    "\n",
    "\tdef backward(self, gy):\n",
    "\t\traise NotImplementedError()"
   ]
  },
  {
   "cell_type": "markdown",
   "metadata": {},
   "source": [
    "이제 우리가 만들게 될 최종 코드를 보자"
   ]
  },
  {
   "cell_type": "code",
   "execution_count": null,
   "metadata": {},
   "outputs": [],
   "source": []
  },
  {
   "cell_type": "markdown",
   "metadata": {},
   "source": [
    "# 8강"
   ]
  },
  {
   "cell_type": "markdown",
   "metadata": {},
   "source": [
    "재귀를 반복문으로 바꾸기"
   ]
  },
  {
   "cell_type": "code",
   "execution_count": 34,
   "metadata": {},
   "outputs": [
    {
     "name": "stdout",
     "output_type": "stream",
     "text": [
      "6.351000049838023\n"
     ]
    }
   ],
   "source": [
    "class Variable:\n",
    "\tdef __init__(self, data):\n",
    "\t\tself.data = data\n",
    "\t\tself.grad = None\n",
    "\t\tself.creator = None\n",
    "\n",
    "\tdef set_creator(self, func):\n",
    "\t\tself.creator = func #자신의 창조자를 저장함\n",
    "\n",
    "# 재귀 코드\n",
    "\t# def backward(self):\n",
    "\t# \tf = self.creator\n",
    "\t# \tif f:\n",
    "\t# \t\tx = f.input\n",
    "\t# \t\tx.grad = f.backward(self.grad)\n",
    "\t# \t\tx.backward() # 자기 자신을 활용하기에 계속 self.grad를 활용함.\n",
    "\n",
    "\n",
    "# 반복문 코드\n",
    "\tdef backward(self):\n",
    "\t\tfuncs = [self.creator]\n",
    "\t\twhile funcs:\n",
    "\t\t\tf = funcs.pop()\n",
    "\t\t\tx, y = f.input, f.output # 여기에서 output 값이 활용됨.\n",
    "\t\t\tx.grad = f.backward(y.grad) # 우리는 output의 미분값을 알고 싶다..\n",
    "\n",
    "\t\t\tif x.creator is not None: # 시작이 아니라면\n",
    "\t\t\t\tfuncs.append(x.creator)\n",
    "\n",
    "#어차피 들어갔다가 바로 나올 거라면, list일 필요가 없다!\n",
    "\n",
    "# 내 코드\n",
    "\t# def backward(self):\n",
    "\t# \tf = self.creator\n",
    "\t# \twhile f:\n",
    "\t# \t\tx, y = f.input, f.output\n",
    "\t# \t\tx.grad = f.backward(y.grad)\n",
    "\t# \t\tf = x.creator\n",
    "\n",
    "A = Square()\n",
    "B = Exp()\n",
    "C = Triple()\n",
    "\n",
    "x = Variable(np.array(0.5))\n",
    "a = A(x)\n",
    "b = B(a)\n",
    "y = C(b)\n",
    "\n",
    "y.grad = np.array(1.0)\n",
    "y.backward()\n",
    "print(x.grad)"
   ]
  },
  {
   "cell_type": "markdown",
   "metadata": {},
   "source": [
    "꼬리 재귀가 뭘까?"
   ]
  },
  {
   "cell_type": "code",
   "execution_count": 43,
   "metadata": {},
   "outputs": [
    {
     "name": "stdout",
     "output_type": "stream",
     "text": [
      "120\n",
      "-----------\n",
      "120\n"
     ]
    }
   ],
   "source": [
    "#일반 재귀\n",
    "def fact1(n):\n",
    "\tif n == 1:\n",
    "\t\treturn 1\n",
    "\treturn n * fact1(n-1)\n",
    "\n",
    "#꼬리 재귀\n",
    "def fact2(n, total = 1):\n",
    "\tif n == 1:\n",
    "\t\treturn total\n",
    "\treturn fact2(n-1, total * n) # 재귀 자체가 반환되도록 만든다.\n",
    "# 중간 재귀들은 아무 일도 하지 않고, 전달만 한다. \n",
    "\n",
    "print(fact1(5))\n",
    "print('-----------')\n",
    "print(fact2(5))"
   ]
  },
  {
   "cell_type": "code",
   "execution_count": 44,
   "metadata": {},
   "outputs": [
    {
     "name": "stdout",
     "output_type": "stream",
     "text": [
      "2\n",
      "6\n",
      "24\n",
      "120\n",
      "120\n",
      "-----------\n",
      "120\n",
      "120\n",
      "120\n",
      "120\n",
      "120\n"
     ]
    }
   ],
   "source": [
    "def fact1(n):\n",
    "\tif n == 1:\n",
    "\t\treturn 1\n",
    "\ttmp = n * fact1(n-1)\n",
    "\tprint(tmp)\n",
    "\treturn tmp\n",
    "\n",
    "def fact2(n, total = 1):\n",
    "\tif n == 1:\n",
    "\t\treturn total\n",
    "\ttmp = fact2(n-1, total * n) \n",
    "\tprint(tmp)\n",
    "\treturn tmp \n",
    "\n",
    "\n",
    "print(fact1(5))\n",
    "print('-----------')\n",
    "print(fact2(5))\n"
   ]
  },
  {
   "cell_type": "markdown",
   "metadata": {},
   "source": [
    "# 9강"
   ]
  },
  {
   "cell_type": "markdown",
   "metadata": {},
   "source": [
    "함수 객체로 쓰지 말고.. 함수처럼 쓰자.."
   ]
  },
  {
   "cell_type": "code",
   "execution_count": 45,
   "metadata": {},
   "outputs": [],
   "source": [
    "def square(x):\n",
    "\treturn Square()(x) #함수화 시켜버림\n",
    "def exp(x):\n",
    "\treturn Exp()(x)\n",
    "def triple(x):\n",
    "\treturn Triple()(x)"
   ]
  },
  {
   "cell_type": "code",
   "execution_count": 47,
   "metadata": {},
   "outputs": [
    {
     "name": "stdout",
     "output_type": "stream",
     "text": [
      "6.351000049838023\n"
     ]
    }
   ],
   "source": [
    "x = Variable(np.array(0.5))\n",
    "y = triple(exp(square(x))) #와! 함수처럼 쓸 수 있게 됐다!\n",
    "y.grad = np.array(1.0)\n",
    "y.backward()\n",
    "print(x.grad)"
   ]
  },
  {
   "cell_type": "markdown",
   "metadata": {},
   "source": [
    "dy/dy 그만 쓰고 싶다.. 허구헌 날 1 쓰고 싶지 않다.."
   ]
  },
  {
   "cell_type": "code",
   "execution_count": 49,
   "metadata": {},
   "outputs": [
    {
     "name": "stdout",
     "output_type": "stream",
     "text": [
      "6.351000049838023\n"
     ]
    }
   ],
   "source": [
    "class Variable:\n",
    "\tdef __init__(self, data):\n",
    "\t\tself.data = data\n",
    "\t\tself.grad = None\n",
    "\t\tself.creator = None\n",
    "\n",
    "\tdef set_creator(self, func):\n",
    "\t\tself.creator = func\n",
    "\n",
    "\tdef backward(self):\n",
    "\t\t#변수에 대해 backward를 하는 것은 마지막 밖에 없음.\n",
    "\t\tif self.grad is None: \n",
    "\t\t\tself.grad = np.ones_like(self.data) # 그렇기에 맨 마지막 미분값만 1이 됨\n",
    "\n",
    "\t\tfuncs = [self.creator]\n",
    "\t\twhile funcs:\n",
    "\t\t\tf = funcs.pop()\n",
    "\t\t\tx, y = f.input, f.output\n",
    "\t\t\tx.grad = f.backward(y.grad)\n",
    "\n",
    "\t\t\tif x.creator is not None:\n",
    "\t\t\t\tfuncs.append(x.creator)\n",
    "\n",
    "\n",
    "x = Variable(np.array(0.5))\n",
    "y = triple(exp(square(x)))\n",
    "# 귀찮게 y.grad 안 써도 된다!\n",
    "y.backward()\n",
    "print(x.grad)\n"
   ]
  },
  {
   "cell_type": "markdown",
   "metadata": {},
   "source": [
    "다른 자료형은 받지 않겠다."
   ]
  },
  {
   "cell_type": "code",
   "execution_count": 53,
   "metadata": {},
   "outputs": [],
   "source": [
    "#이 코드를 실행하기 이전에 밑 코드를 한번만 먼저 실행하세요\n",
    "\n",
    "class Variable:\n",
    "\tdef __init__(self, data):\n",
    "\t\t# 데이터가 None도, ndarray도 아니라면?\n",
    "\t\tif data is not None and not isinstance(data, np.ndarray):\n",
    "\t\t\traise TypeError(f'{type(data)} 안돼안돼 무조건 ndarray')\n",
    "\n",
    "\t\tself.data = data\n",
    "\t\tself.grad = None\n",
    "\t\tself.creator = None\n",
    "\n",
    "\tdef set_creator(self, func):\n",
    "\t\tself.creator = func\n",
    "\n",
    "\tdef backward(self):\n",
    "\t\tif self.grad is None:\n",
    "\t\t\tself.grad = np.ones_like(self.data)\n",
    "\n",
    "\t\tfuncs = [self.creator]\n",
    "\t\twhile funcs:\n",
    "\t\t\tf = funcs.pop()\n",
    "\t\t\tx, y = f.input, f.output\n",
    "\t\t\tx.grad = f.backward(y.grad)\n",
    "\n",
    "\t\t\tif x.creator is not None:\n",
    "\t\t\t\tfuncs.append(x.creator)"
   ]
  },
  {
   "cell_type": "code",
   "execution_count": 54,
   "metadata": {},
   "outputs": [
    {
     "name": "stdout",
     "output_type": "stream",
     "text": [
      "<__main__.Variable object at 0x000002810E06B5E0>\n",
      "<__main__.Variable object at 0x000002810C5289D0>\n"
     ]
    },
    {
     "ename": "TypeError",
     "evalue": "<class 'float'> 안돼안돼 무조건 ndarray",
     "output_type": "error",
     "traceback": [
      "\u001b[1;31m---------------------------------------------------------------------------\u001b[0m",
      "\u001b[1;31mTypeError\u001b[0m                                 Traceback (most recent call last)",
      "\u001b[1;32mc:\\Users\\dongg\\Desktop\\naver_boost_camp\\dezero\\steps\\practic.ipynb 셀 38\u001b[0m in \u001b[0;36m<cell line: 3>\u001b[1;34m()\u001b[0m\n\u001b[0;32m      <a href='vscode-notebook-cell:/c%3A/Users/dongg/Desktop/naver_boost_camp/dezero/steps/practic.ipynb#X53sZmlsZQ%3D%3D?line=0'>1</a>\u001b[0m \u001b[39mprint\u001b[39m(Variable(np\u001b[39m.\u001b[39marray(\u001b[39m1.0\u001b[39m)))\n\u001b[0;32m      <a href='vscode-notebook-cell:/c%3A/Users/dongg/Desktop/naver_boost_camp/dezero/steps/practic.ipynb#X53sZmlsZQ%3D%3D?line=1'>2</a>\u001b[0m \u001b[39mprint\u001b[39m(Variable(\u001b[39mNone\u001b[39;00m))\n\u001b[1;32m----> <a href='vscode-notebook-cell:/c%3A/Users/dongg/Desktop/naver_boost_camp/dezero/steps/practic.ipynb#X53sZmlsZQ%3D%3D?line=2'>3</a>\u001b[0m \u001b[39mprint\u001b[39m(Variable(\u001b[39m1.0\u001b[39;49m))\n",
      "\u001b[1;32mc:\\Users\\dongg\\Desktop\\naver_boost_camp\\dezero\\steps\\practic.ipynb 셀 38\u001b[0m in \u001b[0;36mVariable.__init__\u001b[1;34m(self, data)\u001b[0m\n\u001b[0;32m      <a href='vscode-notebook-cell:/c%3A/Users/dongg/Desktop/naver_boost_camp/dezero/steps/practic.ipynb#X53sZmlsZQ%3D%3D?line=1'>2</a>\u001b[0m \u001b[39mdef\u001b[39;00m \u001b[39m__init__\u001b[39m(\u001b[39mself\u001b[39m, data):\n\u001b[0;32m      <a href='vscode-notebook-cell:/c%3A/Users/dongg/Desktop/naver_boost_camp/dezero/steps/practic.ipynb#X53sZmlsZQ%3D%3D?line=2'>3</a>\u001b[0m \t\u001b[39m# 데이터가 None도, ndarray도 아니라면?\u001b[39;00m\n\u001b[0;32m      <a href='vscode-notebook-cell:/c%3A/Users/dongg/Desktop/naver_boost_camp/dezero/steps/practic.ipynb#X53sZmlsZQ%3D%3D?line=3'>4</a>\u001b[0m \t\u001b[39mif\u001b[39;00m data \u001b[39mis\u001b[39;00m \u001b[39mnot\u001b[39;00m \u001b[39mNone\u001b[39;00m \u001b[39mand\u001b[39;00m \u001b[39mnot\u001b[39;00m \u001b[39misinstance\u001b[39m(data, np\u001b[39m.\u001b[39mndarray):\n\u001b[1;32m----> <a href='vscode-notebook-cell:/c%3A/Users/dongg/Desktop/naver_boost_camp/dezero/steps/practic.ipynb#X53sZmlsZQ%3D%3D?line=4'>5</a>\u001b[0m \t\t\u001b[39mraise\u001b[39;00m \u001b[39mTypeError\u001b[39;00m(\u001b[39mf\u001b[39m\u001b[39m'\u001b[39m\u001b[39m{\u001b[39;00m\u001b[39mtype\u001b[39m(data)\u001b[39m}\u001b[39;00m\u001b[39m 안돼안돼 무조건 ndarray\u001b[39m\u001b[39m'\u001b[39m)\n\u001b[0;32m      <a href='vscode-notebook-cell:/c%3A/Users/dongg/Desktop/naver_boost_camp/dezero/steps/practic.ipynb#X53sZmlsZQ%3D%3D?line=6'>7</a>\u001b[0m \t\u001b[39mself\u001b[39m\u001b[39m.\u001b[39mdata \u001b[39m=\u001b[39m data\n\u001b[0;32m      <a href='vscode-notebook-cell:/c%3A/Users/dongg/Desktop/naver_boost_camp/dezero/steps/practic.ipynb#X53sZmlsZQ%3D%3D?line=7'>8</a>\u001b[0m \t\u001b[39mself\u001b[39m\u001b[39m.\u001b[39mgrad \u001b[39m=\u001b[39m \u001b[39mNone\u001b[39;00m\n",
      "\u001b[1;31mTypeError\u001b[0m: <class 'float'> 안돼안돼 무조건 ndarray"
     ]
    }
   ],
   "source": [
    "print(Variable(np.array(1.0)))\n",
    "print(Variable(None))\n",
    "print(Variable(1.0))"
   ]
  },
  {
   "cell_type": "code",
   "execution_count": 57,
   "metadata": {},
   "outputs": [
    {
     "ename": "TypeError",
     "evalue": "<class 'numpy.float64'> 안돼안돼 무조건 ndarray",
     "output_type": "error",
     "traceback": [
      "\u001b[1;31m---------------------------------------------------------------------------\u001b[0m",
      "\u001b[1;31mTypeError\u001b[0m                                 Traceback (most recent call last)",
      "\u001b[1;32mc:\\Users\\dongg\\Desktop\\naver_boost_camp\\dezero\\steps\\practic.ipynb 셀 39\u001b[0m in \u001b[0;36m<cell line: 3>\u001b[1;34m()\u001b[0m\n\u001b[0;32m      <a href='vscode-notebook-cell:/c%3A/Users/dongg/Desktop/naver_boost_camp/dezero/steps/practic.ipynb#X60sZmlsZQ%3D%3D?line=0'>1</a>\u001b[0m \u001b[39m#문제 발생\u001b[39;00m\n\u001b[0;32m      <a href='vscode-notebook-cell:/c%3A/Users/dongg/Desktop/naver_boost_camp/dezero/steps/practic.ipynb#X60sZmlsZQ%3D%3D?line=1'>2</a>\u001b[0m x \u001b[39m=\u001b[39m Variable(np\u001b[39m.\u001b[39marray(\u001b[39m0.5\u001b[39m))\n\u001b[1;32m----> <a href='vscode-notebook-cell:/c%3A/Users/dongg/Desktop/naver_boost_camp/dezero/steps/practic.ipynb#X60sZmlsZQ%3D%3D?line=2'>3</a>\u001b[0m y \u001b[39m=\u001b[39m triple(exp(square(x)))\n\u001b[0;32m      <a href='vscode-notebook-cell:/c%3A/Users/dongg/Desktop/naver_boost_camp/dezero/steps/practic.ipynb#X60sZmlsZQ%3D%3D?line=3'>4</a>\u001b[0m y\u001b[39m.\u001b[39mbackward()\n\u001b[0;32m      <a href='vscode-notebook-cell:/c%3A/Users/dongg/Desktop/naver_boost_camp/dezero/steps/practic.ipynb#X60sZmlsZQ%3D%3D?line=4'>5</a>\u001b[0m \u001b[39mprint\u001b[39m(x\u001b[39m.\u001b[39mgrad)\n",
      "\u001b[1;32mc:\\Users\\dongg\\Desktop\\naver_boost_camp\\dezero\\steps\\practic.ipynb 셀 39\u001b[0m in \u001b[0;36msquare\u001b[1;34m(x)\u001b[0m\n\u001b[0;32m      <a href='vscode-notebook-cell:/c%3A/Users/dongg/Desktop/naver_boost_camp/dezero/steps/practic.ipynb#X60sZmlsZQ%3D%3D?line=0'>1</a>\u001b[0m \u001b[39mdef\u001b[39;00m \u001b[39msquare\u001b[39m(x):\n\u001b[1;32m----> <a href='vscode-notebook-cell:/c%3A/Users/dongg/Desktop/naver_boost_camp/dezero/steps/practic.ipynb#X60sZmlsZQ%3D%3D?line=1'>2</a>\u001b[0m \t\u001b[39mreturn\u001b[39;00m Square()(x)\n",
      "\u001b[1;32mc:\\Users\\dongg\\Desktop\\naver_boost_camp\\dezero\\steps\\practic.ipynb 셀 39\u001b[0m in \u001b[0;36mFunction.__call__\u001b[1;34m(self, input)\u001b[0m\n\u001b[0;32m     <a href='vscode-notebook-cell:/c%3A/Users/dongg/Desktop/naver_boost_camp/dezero/steps/practic.ipynb#X60sZmlsZQ%3D%3D?line=42'>43</a>\u001b[0m x \u001b[39m=\u001b[39m \u001b[39minput\u001b[39m\u001b[39m.\u001b[39mdata\n\u001b[0;32m     <a href='vscode-notebook-cell:/c%3A/Users/dongg/Desktop/naver_boost_camp/dezero/steps/practic.ipynb#X60sZmlsZQ%3D%3D?line=43'>44</a>\u001b[0m y \u001b[39m=\u001b[39m \u001b[39mself\u001b[39m\u001b[39m.\u001b[39mforward(x)\n\u001b[1;32m---> <a href='vscode-notebook-cell:/c%3A/Users/dongg/Desktop/naver_boost_camp/dezero/steps/practic.ipynb#X60sZmlsZQ%3D%3D?line=44'>45</a>\u001b[0m output \u001b[39m=\u001b[39m Variable(y) \u001b[39m# 함수로 만들어진 출력이 변수에 담김\u001b[39;00m\n\u001b[0;32m     <a href='vscode-notebook-cell:/c%3A/Users/dongg/Desktop/naver_boost_camp/dezero/steps/practic.ipynb#X60sZmlsZQ%3D%3D?line=45'>46</a>\u001b[0m \u001b[39mself\u001b[39m\u001b[39m.\u001b[39minput \u001b[39m=\u001b[39m \u001b[39minput\u001b[39m \u001b[39m# 입력변수 보관\u001b[39;00m\n\u001b[0;32m     <a href='vscode-notebook-cell:/c%3A/Users/dongg/Desktop/naver_boost_camp/dezero/steps/practic.ipynb#X60sZmlsZQ%3D%3D?line=47'>48</a>\u001b[0m output\u001b[39m.\u001b[39mset_creator(\u001b[39mself\u001b[39m) \u001b[39m# 그 변수는 자신을 만든 함수를 저장함\u001b[39;00m\n",
      "\u001b[1;32mc:\\Users\\dongg\\Desktop\\naver_boost_camp\\dezero\\steps\\practic.ipynb 셀 39\u001b[0m in \u001b[0;36mVariable.__init__\u001b[1;34m(self, data)\u001b[0m\n\u001b[0;32m      <a href='vscode-notebook-cell:/c%3A/Users/dongg/Desktop/naver_boost_camp/dezero/steps/practic.ipynb#X60sZmlsZQ%3D%3D?line=1'>2</a>\u001b[0m \u001b[39mdef\u001b[39;00m \u001b[39m__init__\u001b[39m(\u001b[39mself\u001b[39m, data):\n\u001b[0;32m      <a href='vscode-notebook-cell:/c%3A/Users/dongg/Desktop/naver_boost_camp/dezero/steps/practic.ipynb#X60sZmlsZQ%3D%3D?line=2'>3</a>\u001b[0m \t\u001b[39m# 데이터가 None도, ndarray도 아니라면?\u001b[39;00m\n\u001b[0;32m      <a href='vscode-notebook-cell:/c%3A/Users/dongg/Desktop/naver_boost_camp/dezero/steps/practic.ipynb#X60sZmlsZQ%3D%3D?line=3'>4</a>\u001b[0m \t\u001b[39mif\u001b[39;00m data \u001b[39mis\u001b[39;00m \u001b[39mnot\u001b[39;00m \u001b[39mNone\u001b[39;00m \u001b[39mand\u001b[39;00m \u001b[39mnot\u001b[39;00m \u001b[39misinstance\u001b[39m(data, np\u001b[39m.\u001b[39mndarray):\n\u001b[1;32m----> <a href='vscode-notebook-cell:/c%3A/Users/dongg/Desktop/naver_boost_camp/dezero/steps/practic.ipynb#X60sZmlsZQ%3D%3D?line=4'>5</a>\u001b[0m \t\t\u001b[39mraise\u001b[39;00m \u001b[39mTypeError\u001b[39;00m(\u001b[39mf\u001b[39m\u001b[39m'\u001b[39m\u001b[39m{\u001b[39;00m\u001b[39mtype\u001b[39m(data)\u001b[39m}\u001b[39;00m\u001b[39m 안돼안돼 무조건 ndarray\u001b[39m\u001b[39m'\u001b[39m)\n\u001b[0;32m      <a href='vscode-notebook-cell:/c%3A/Users/dongg/Desktop/naver_boost_camp/dezero/steps/practic.ipynb#X60sZmlsZQ%3D%3D?line=6'>7</a>\u001b[0m \t\u001b[39mself\u001b[39m\u001b[39m.\u001b[39mdata \u001b[39m=\u001b[39m data\n\u001b[0;32m      <a href='vscode-notebook-cell:/c%3A/Users/dongg/Desktop/naver_boost_camp/dezero/steps/practic.ipynb#X60sZmlsZQ%3D%3D?line=7'>8</a>\u001b[0m \t\u001b[39mself\u001b[39m\u001b[39m.\u001b[39mgrad \u001b[39m=\u001b[39m \u001b[39mNone\u001b[39;00m\n",
      "\u001b[1;31mTypeError\u001b[0m: <class 'numpy.float64'> 안돼안돼 무조건 ndarray"
     ]
    }
   ],
   "source": [
    "#문제 발생\n",
    "x = Variable(np.array(0.5))\n",
    "y = triple(exp(square(x)))\n",
    "y.backward()\n",
    "print(x.grad)"
   ]
  },
  {
   "cell_type": "code",
   "execution_count": 58,
   "metadata": {},
   "outputs": [],
   "source": [
    "# x ** 2는 array가 아니게 된다.\n",
    "def as_array(x):\n",
    "\tif np.isscalar(x): return np.array(x)\n",
    "\treturn x"
   ]
  },
  {
   "cell_type": "code",
   "execution_count": 61,
   "metadata": {},
   "outputs": [
    {
     "name": "stdout",
     "output_type": "stream",
     "text": [
      "6.351000049838023\n"
     ]
    }
   ],
   "source": [
    "class Function:\n",
    "\tdef __call__(self, input):\n",
    "\t\tx = input.data\n",
    "\t\ty = self.forward(x)\n",
    "\t\toutput = Variable(as_array(y)) # 중요한 건 꺾이지 않는 ndarray\n",
    "\t\toutput.set_creator(self)\n",
    "\t\tself.input = input\n",
    "\t\tself.output = output\n",
    "\t\treturn output\n",
    "\n",
    "\tdef forward(self, x):\n",
    "\t\traise NotImplementedError()\n",
    "\n",
    "\tdef backward(self, gy):\n",
    "\t\traise NotImplementedError()\n",
    "\t\t\n",
    "class Square(Function):\n",
    "\tdef forward(self, x):\n",
    "\t\treturn x ** 2\n",
    "\n",
    "\tdef backward(self, gy):\n",
    "\t\tx = self.input.data\n",
    "\t\tgx = 2 * x * gy\n",
    "\t\treturn gx\n",
    "\n",
    "class Exp(Function):\n",
    "\tdef forward(self, x):\n",
    "\t\treturn np.exp(x)\n",
    "\n",
    "\tdef backward(self, gy):\n",
    "\t\tx = self.input.data\n",
    "\t\tgx = np.exp(x) * gy\n",
    "\t\treturn gx\n",
    "\n",
    "class Triple(Function):\n",
    "\tdef forward(self, x):\n",
    "\t\treturn x ** 3\n",
    "\t\n",
    "\tdef backward(self, gy):\n",
    "\t\tx = self.input.data\n",
    "\t\tgx = 3 * (x ** 2) * gy\n",
    "\t\treturn gx\n",
    "\n",
    "\n",
    "x = Variable(np.array(0.5))\n",
    "y = triple(exp(square(x)))\n",
    "y.backward()\n",
    "print(x.grad)"
   ]
  },
  {
   "cell_type": "markdown",
   "metadata": {},
   "source": [
    "# 10강"
   ]
  },
  {
   "cell_type": "markdown",
   "metadata": {},
   "source": [
    "파이썬 파일로"
   ]
  },
  {
   "cell_type": "code",
   "execution_count": null,
   "metadata": {},
   "outputs": [],
   "source": []
  },
  {
   "cell_type": "code",
   "execution_count": null,
   "metadata": {},
   "outputs": [],
   "source": []
  }
 ],
 "metadata": {
  "kernelspec": {
   "display_name": "Python 3.9.12 ('base')",
   "language": "python",
   "name": "python3"
  },
  "language_info": {
   "codemirror_mode": {
    "name": "ipython",
    "version": 3
   },
   "file_extension": ".py",
   "mimetype": "text/x-python",
   "name": "python",
   "nbconvert_exporter": "python",
   "pygments_lexer": "ipython3",
   "version": "3.9.12"
  },
  "orig_nbformat": 4,
  "vscode": {
   "interpreter": {
    "hash": "ae36e2c3730f76f8d86264070ce71d55478babdf791474a1a101fe5509d75151"
   }
  }
 },
 "nbformat": 4,
 "nbformat_minor": 2
}
